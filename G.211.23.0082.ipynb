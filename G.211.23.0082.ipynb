{
  "nbformat": 4,
  "nbformat_minor": 0,
  "metadata": {
    "colab": {
      "provenance": [],
      "authorship_tag": "ABX9TyNoE7uGY5awg5ylouh4rTeP",
      "include_colab_link": true
    },
    "kernelspec": {
      "name": "python3",
      "display_name": "Python 3"
    },
    "language_info": {
      "name": "python"
    }
  },
  "cells": [
    {
      "cell_type": "markdown",
      "metadata": {
        "id": "view-in-github",
        "colab_type": "text"
      },
      "source": [
        "<a href=\"https://colab.research.google.com/github/vian-bit/UAS/blob/main/G.211.23.0082.ipynb\" target=\"_parent\"><img src=\"https://colab.research.google.com/assets/colab-badge.svg\" alt=\"Open In Colab\"/></a>"
      ]
    },
    {
      "cell_type": "markdown",
      "source": [
        "2"
      ],
      "metadata": {
        "id": "dOE13uUsL923"
      }
    },
    {
      "cell_type": "code",
      "execution_count": 2,
      "metadata": {
        "colab": {
          "base_uri": "https://localhost:8080/",
          "height": 73
        },
        "id": "NPpM-_enIR0u",
        "outputId": "b5f5186a-2dfe-492e-ea88-3f2c721a375b"
      },
      "outputs": [
        {
          "output_type": "display_data",
          "data": {
            "text/plain": [
              "<IPython.core.display.HTML object>"
            ],
            "text/html": [
              "\n",
              "     <input type=\"file\" id=\"files-e739edf4-9db6-4c96-91f5-d2e534509937\" name=\"files[]\" multiple disabled\n",
              "        style=\"border:none\" />\n",
              "     <output id=\"result-e739edf4-9db6-4c96-91f5-d2e534509937\">\n",
              "      Upload widget is only available when the cell has been executed in the\n",
              "      current browser session. Please rerun this cell to enable.\n",
              "      </output>\n",
              "      <script>// Copyright 2017 Google LLC\n",
              "//\n",
              "// Licensed under the Apache License, Version 2.0 (the \"License\");\n",
              "// you may not use this file except in compliance with the License.\n",
              "// You may obtain a copy of the License at\n",
              "//\n",
              "//      http://www.apache.org/licenses/LICENSE-2.0\n",
              "//\n",
              "// Unless required by applicable law or agreed to in writing, software\n",
              "// distributed under the License is distributed on an \"AS IS\" BASIS,\n",
              "// WITHOUT WARRANTIES OR CONDITIONS OF ANY KIND, either express or implied.\n",
              "// See the License for the specific language governing permissions and\n",
              "// limitations under the License.\n",
              "\n",
              "/**\n",
              " * @fileoverview Helpers for google.colab Python module.\n",
              " */\n",
              "(function(scope) {\n",
              "function span(text, styleAttributes = {}) {\n",
              "  const element = document.createElement('span');\n",
              "  element.textContent = text;\n",
              "  for (const key of Object.keys(styleAttributes)) {\n",
              "    element.style[key] = styleAttributes[key];\n",
              "  }\n",
              "  return element;\n",
              "}\n",
              "\n",
              "// Max number of bytes which will be uploaded at a time.\n",
              "const MAX_PAYLOAD_SIZE = 100 * 1024;\n",
              "\n",
              "function _uploadFiles(inputId, outputId) {\n",
              "  const steps = uploadFilesStep(inputId, outputId);\n",
              "  const outputElement = document.getElementById(outputId);\n",
              "  // Cache steps on the outputElement to make it available for the next call\n",
              "  // to uploadFilesContinue from Python.\n",
              "  outputElement.steps = steps;\n",
              "\n",
              "  return _uploadFilesContinue(outputId);\n",
              "}\n",
              "\n",
              "// This is roughly an async generator (not supported in the browser yet),\n",
              "// where there are multiple asynchronous steps and the Python side is going\n",
              "// to poll for completion of each step.\n",
              "// This uses a Promise to block the python side on completion of each step,\n",
              "// then passes the result of the previous step as the input to the next step.\n",
              "function _uploadFilesContinue(outputId) {\n",
              "  const outputElement = document.getElementById(outputId);\n",
              "  const steps = outputElement.steps;\n",
              "\n",
              "  const next = steps.next(outputElement.lastPromiseValue);\n",
              "  return Promise.resolve(next.value.promise).then((value) => {\n",
              "    // Cache the last promise value to make it available to the next\n",
              "    // step of the generator.\n",
              "    outputElement.lastPromiseValue = value;\n",
              "    return next.value.response;\n",
              "  });\n",
              "}\n",
              "\n",
              "/**\n",
              " * Generator function which is called between each async step of the upload\n",
              " * process.\n",
              " * @param {string} inputId Element ID of the input file picker element.\n",
              " * @param {string} outputId Element ID of the output display.\n",
              " * @return {!Iterable<!Object>} Iterable of next steps.\n",
              " */\n",
              "function* uploadFilesStep(inputId, outputId) {\n",
              "  const inputElement = document.getElementById(inputId);\n",
              "  inputElement.disabled = false;\n",
              "\n",
              "  const outputElement = document.getElementById(outputId);\n",
              "  outputElement.innerHTML = '';\n",
              "\n",
              "  const pickedPromise = new Promise((resolve) => {\n",
              "    inputElement.addEventListener('change', (e) => {\n",
              "      resolve(e.target.files);\n",
              "    });\n",
              "  });\n",
              "\n",
              "  const cancel = document.createElement('button');\n",
              "  inputElement.parentElement.appendChild(cancel);\n",
              "  cancel.textContent = 'Cancel upload';\n",
              "  const cancelPromise = new Promise((resolve) => {\n",
              "    cancel.onclick = () => {\n",
              "      resolve(null);\n",
              "    };\n",
              "  });\n",
              "\n",
              "  // Wait for the user to pick the files.\n",
              "  const files = yield {\n",
              "    promise: Promise.race([pickedPromise, cancelPromise]),\n",
              "    response: {\n",
              "      action: 'starting',\n",
              "    }\n",
              "  };\n",
              "\n",
              "  cancel.remove();\n",
              "\n",
              "  // Disable the input element since further picks are not allowed.\n",
              "  inputElement.disabled = true;\n",
              "\n",
              "  if (!files) {\n",
              "    return {\n",
              "      response: {\n",
              "        action: 'complete',\n",
              "      }\n",
              "    };\n",
              "  }\n",
              "\n",
              "  for (const file of files) {\n",
              "    const li = document.createElement('li');\n",
              "    li.append(span(file.name, {fontWeight: 'bold'}));\n",
              "    li.append(span(\n",
              "        `(${file.type || 'n/a'}) - ${file.size} bytes, ` +\n",
              "        `last modified: ${\n",
              "            file.lastModifiedDate ? file.lastModifiedDate.toLocaleDateString() :\n",
              "                                    'n/a'} - `));\n",
              "    const percent = span('0% done');\n",
              "    li.appendChild(percent);\n",
              "\n",
              "    outputElement.appendChild(li);\n",
              "\n",
              "    const fileDataPromise = new Promise((resolve) => {\n",
              "      const reader = new FileReader();\n",
              "      reader.onload = (e) => {\n",
              "        resolve(e.target.result);\n",
              "      };\n",
              "      reader.readAsArrayBuffer(file);\n",
              "    });\n",
              "    // Wait for the data to be ready.\n",
              "    let fileData = yield {\n",
              "      promise: fileDataPromise,\n",
              "      response: {\n",
              "        action: 'continue',\n",
              "      }\n",
              "    };\n",
              "\n",
              "    // Use a chunked sending to avoid message size limits. See b/62115660.\n",
              "    let position = 0;\n",
              "    do {\n",
              "      const length = Math.min(fileData.byteLength - position, MAX_PAYLOAD_SIZE);\n",
              "      const chunk = new Uint8Array(fileData, position, length);\n",
              "      position += length;\n",
              "\n",
              "      const base64 = btoa(String.fromCharCode.apply(null, chunk));\n",
              "      yield {\n",
              "        response: {\n",
              "          action: 'append',\n",
              "          file: file.name,\n",
              "          data: base64,\n",
              "        },\n",
              "      };\n",
              "\n",
              "      let percentDone = fileData.byteLength === 0 ?\n",
              "          100 :\n",
              "          Math.round((position / fileData.byteLength) * 100);\n",
              "      percent.textContent = `${percentDone}% done`;\n",
              "\n",
              "    } while (position < fileData.byteLength);\n",
              "  }\n",
              "\n",
              "  // All done.\n",
              "  yield {\n",
              "    response: {\n",
              "      action: 'complete',\n",
              "    }\n",
              "  };\n",
              "}\n",
              "\n",
              "scope.google = scope.google || {};\n",
              "scope.google.colab = scope.google.colab || {};\n",
              "scope.google.colab._files = {\n",
              "  _uploadFiles,\n",
              "  _uploadFilesContinue,\n",
              "};\n",
              "})(self);\n",
              "</script> "
            ]
          },
          "metadata": {}
        },
        {
          "output_type": "stream",
          "name": "stdout",
          "text": [
            "Saving stock.csv to stock.csv\n"
          ]
        }
      ],
      "source": [
        "import pandas as pd\n",
        "import matplotlib.pyplot as plt\n",
        "import seaborn as sns\n",
        "from google.colab import files\n",
        "uploaded = files.upload\n",
        "uploaded = files.upload()"
      ]
    },
    {
      "cell_type": "markdown",
      "source": [
        "2A"
      ],
      "metadata": {
        "id": "Y4PIiL-wMBq1"
      }
    },
    {
      "cell_type": "code",
      "source": [
        "df = pd.read_csv(list(uploaded.keys())[0], delimiter=';')\n",
        "\n",
        "print(df.columns)\n",
        "\n",
        "df.columns = df.columns.str.strip()\n",
        "\n",
        "print(df.columns)\n",
        "\n",
        "df['Purchase Price'] = df['Purchase Price'].replace('[$,]', '', regex=True).astype(float)\n",
        "df['Current Price'] = df['Current Price'].replace('[$,]', '', regex=True).astype(float)\n",
        "df['Gain/Loss'] = df['Gain/Loss'].replace('[$,]', '', regex=True).astype(float)\n",
        "df['Dividend/share'] = df['Dividend/share'].replace('[$,]', '', regex=True).astype(float)\n",
        "df['Market Value'] = df['Market Value'].replace('[$,]', '', regex=True).astype(float)\n",
        "df['Annual Yield'] = df['Annual Yield'].replace('[\\%,]', '', regex=True).astype(float)\n",
        "\n",
        "# grafik histograms\n",
        "plt.figure(figsize=(18, 5))\n",
        "\n",
        "plt.subplot(1, 3, 1)\n",
        "sns.histplot(df['Purchase Price'], kde=True)\n",
        "plt.title('Purchase Price Distribution')\n",
        "\n",
        "plt.subplot(1, 3, 2)\n",
        "sns.histplot(df['Current Price'], kde=True)\n",
        "plt.title('Current Price Distribution')\n",
        "\n",
        "plt.subplot(1, 3, 3)\n",
        "sns.histplot(df['Gain/Loss'], kde=True)\n",
        "plt.title('Gain/Loss Distribution')\n",
        "\n",
        "plt.tight_layout()\n",
        "plt.show()"
      ],
      "metadata": {
        "colab": {
          "base_uri": "https://localhost:8080/",
          "height": 504
        },
        "id": "85uyjmWAKqip",
        "outputId": "042d563a-8972-460d-e68b-3d6bcbdd1969"
      },
      "execution_count": 8,
      "outputs": [
        {
          "output_type": "stream",
          "name": "stdout",
          "text": [
            "Index(['Stock Name', 'Symbol', 'Shares', 'Purchase Price', 'Cost Basis',\n",
            "       'Current Price', 'Market Value', 'Gain/Loss', 'Dividend/share',\n",
            "       'Annual Yield'],\n",
            "      dtype='object')\n",
            "Index(['Stock Name', 'Symbol', 'Shares', 'Purchase Price', 'Cost Basis',\n",
            "       'Current Price', 'Market Value', 'Gain/Loss', 'Dividend/share',\n",
            "       'Annual Yield'],\n",
            "      dtype='object')\n"
          ]
        },
        {
          "output_type": "display_data",
          "data": {
            "text/plain": [
              "<Figure size 1800x500 with 3 Axes>"
            ],
            "image/png": "[encoded data removed]"
          },
          "metadata": {}
        }
      ]
    },
    {
      "cell_type": "markdown",
      "source": [
        "2B"
      ],
      "metadata": {
        "id": "lexUb3WxMErY"
      }
    },
    {
      "cell_type": "code",
      "source": [
        "top_5_dividend = df.nlargest(5, 'Dividend/share')[['Stock Name', 'Symbol', 'Dividend/share']]\n",
        "print(\"Top 5 Stocks by Dividend/share:\")\n",
        "print(top_5_dividend)"
      ],
      "metadata": {
        "colab": {
          "base_uri": "https://localhost:8080/"
        },
        "id": "ksO7r7NTLw2O",
        "outputId": "31969224-5f45-40a0-9365-1a7ec0205fab"
      },
      "execution_count": 9,
      "outputs": [
        {
          "output_type": "stream",
          "name": "stdout",
          "text": [
            "Top 5 Stocks by Dividend/share:\n",
            "  Stock Name Symbol  Dividend/share\n",
            "8   Qualcomm   QCOM            2.48\n",
            "0      Apple   AAPL            2.28\n",
            "1  Microsoft   MSFT            2.24\n",
            "6      Intel   INTC            1.02\n",
            "7      Cisco   CSCO            0.72\n"
          ]
        }
      ]
    },
    {
      "cell_type": "markdown",
      "source": [
        "2C"
      ],
      "metadata": {
        "id": "NPHJEbjSMF2a"
      }
    },
    {
      "cell_type": "code",
      "source": [
        "top_5_market_value = df.nlargest(5, 'Market Value')[['Stock Name', 'Symbol', 'Market Value']]\n",
        "print(\"\\nTop 5 Stocks by Market Value:\")\n",
        "print(top_5_market_value)\n"
      ],
      "metadata": {
        "colab": {
          "base_uri": "https://localhost:8080/"
        },
        "id": "yjn41aPHLykX",
        "outputId": "12b493a6-58d6-45d5-f113-910d876b6188"
      },
      "execution_count": 10,
      "outputs": [
        {
          "output_type": "stream",
          "name": "stdout",
          "text": [
            "\n",
            "Top 5 Stocks by Market Value:\n",
            "  Stock Name Symbol  Market Value\n",
            "5   Alphabet   GOOG      22333.00\n",
            "8   Qualcomm   QCOM      16350.25\n",
            "0      Apple   AAPL      14413.27\n",
            "1  Microsoft   MSFT      13114.14\n",
            "3     Oracle   ORCL       8912.00\n"
          ]
        }
      ]
    },
    {
      "cell_type": "markdown",
      "source": [
        "2D"
      ],
      "metadata": {
        "id": "0ev7MTBpMG_E"
      }
    },
    {
      "cell_type": "code",
      "source": [
        "top_7_annual_yield = df.nlargest(7, 'Annual Yield')[['Stock Name', 'Symbol', 'Annual Yield']]\n",
        "print(\"\\nTop 7 Stocks by Annual Yield:\")\n",
        "print(top_7_annual_yield)"
      ],
      "metadata": {
        "colab": {
          "base_uri": "https://localhost:8080/"
        },
        "id": "6GjXrTgqL233",
        "outputId": "c2899db0-3b4c-4a1d-f719-d337bbedbdd2"
      },
      "execution_count": 11,
      "outputs": [
        {
          "output_type": "stream",
          "name": "stdout",
          "text": [
            "\n",
            "Top 7 Stocks by Annual Yield:\n",
            "                   Stock Name Symbol  Annual Yield\n",
            "6                       Intel   INTC          3.29\n",
            "7                       Cisco   CSCO          3.11\n",
            "8                    Qualcomm   QCOM          2.81\n",
            "1                   Microsoft   MSFT          2.38\n",
            "4  Hewlett Packard Enterprise    HPE          2.01\n",
            "0                       Apple   AAPL          1.58\n",
            "2                  Salesforce    CRM          1.14\n"
          ]
        }
      ]
    }
  ]
}